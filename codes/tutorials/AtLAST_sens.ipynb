{
 "cells": [
  {
   "cell_type": "markdown",
   "id": "907f3968",
   "metadata": {},
   "source": [
    "## AtLAST sensitivity calculator\n",
    "\n",
    "This is a short tutorial on using the sensitivity calculator and customising the input parameters.\n",
    "\n",
    "First and foremost, let's install the `atlast_sc` package. You can find more details in the GitHub Installation Guide: https://github.com/ukatc/AtLAST_sensitivity_calculator/blob/main/docs/source/user_guide/python_package_installation.rst"
   ]
  },
  {
   "cell_type": "code",
   "execution_count": 43,
   "id": "bbfc707d",
   "metadata": {},
   "outputs": [],
   "source": [
    "try:\n",
    "    import atlast_sc\n",
    "except:\n",
    "    !pip install git+https://github.com/ukatc/AtLAST_sensitivity_calculator.git"
   ]
  },
  {
   "cell_type": "markdown",
   "id": "f72fe13b",
   "metadata": {},
   "source": [
    "Once you have `atlast_sc` installed and correctly running, you can import the main calculator tool (along with some useful packages) as:"
   ]
  },
  {
   "cell_type": "code",
   "execution_count": 44,
   "id": "581cb294",
   "metadata": {},
   "outputs": [],
   "source": [
    "from atlast_sc.calculator import Calculator\n",
    "\n",
    "from astropy import coordinates as coord\n",
    "from astropy import units as u\n",
    "\n",
    "calc = Calculator()"
   ]
  },
  {
   "cell_type": "markdown",
   "id": "bce6ca55",
   "metadata": {},
   "source": [
    "The last step initializes the calculator. This is pre-configured with default values for all user input parameters. Below is an overview of their default values."
   ]
  },
  {
   "cell_type": "code",
   "execution_count": 54,
   "id": "36f27f49",
   "metadata": {},
   "outputs": [
    {
     "name": "stdout",
     "output_type": "stream",
     "text": [
      "t_int: 4984.110697 s\n",
      "sensitivity: 0.42 mJy\n",
      "bandwidth: 100.0 MHz\n",
      "obs_freq: 100.0 GHz\n",
      "n_pol: 2.0 GHz\n",
      "weather: 25.0 GHz\n",
      "elevation: 45.0 deg\n"
     ]
    }
   ],
   "source": [
    "print(calc.user_input)"
   ]
  },
  {
   "cell_type": "markdown",
   "id": "3c20b901",
   "metadata": {},
   "source": [
    "Finally, obtaining a sensitivity estimate for a given integration time is as easy as follows:"
   ]
  },
  {
   "cell_type": "code",
   "execution_count": 46,
   "id": "6d77ff42",
   "metadata": {},
   "outputs": [
    {
     "name": "stdout",
     "output_type": "stream",
     "text": [
      "2.4210151133810287 mJy\n",
      "2421.0151133810286 uJy\n"
     ]
    }
   ],
   "source": [
    "t_int = 150*u.s\n",
    "calculated_sensitivity = calc.calculate_sensitivity(t_int)\n",
    "print(calculated_sensitivity)\n",
    "print(calculated_sensitivity.to(u.uJy))"
   ]
  },
  {
   "cell_type": "markdown",
   "id": "fdf63386",
   "metadata": {},
   "source": [
    "The calculator will take care of all the necessary unit conversions, so you can define your input `t_int` in any units you prefer.\n",
    "\n",
    "If, alternatively, you would like to estimate an integration time for a given target sensitivity, you can simply do:"
   ]
  },
  {
   "cell_type": "code",
   "execution_count": 52,
   "id": "970361c4",
   "metadata": {},
   "outputs": [
    {
     "name": "stdout",
     "output_type": "stream",
     "text": [
      "4984.110696615099 s\n",
      "1.3844751935041941 h\n"
     ]
    }
   ],
   "source": [
    "sensitivity = 0.42*u.mJy\n",
    "calculated_t_int = calc.calculate_t_integration(sensitivity)\n",
    "print(calculated_t_int)\n",
    "print(calculated_t_int.to(u.h))"
   ]
  },
  {
   "cell_type": "markdown",
   "id": "aa119039",
   "metadata": {},
   "source": [
    "### Customizing the input parameters\n",
    "\n",
    "To change the calculator parameters, there are two options. You can either change the individual values once the calculator is initialized,"
   ]
  },
  {
   "cell_type": "code",
   "execution_count": 53,
   "id": "0833a61e",
   "metadata": {},
   "outputs": [],
   "source": [
    "calc_pars = Calculator()\n",
    "calc_pars.bandwidth = 2.00*u.GHz\n",
    "calc_pars.obs_freq = 90*u.GHz\n",
    "calc_pars.weather = 50"
   ]
  },
  {
   "cell_type": "markdown",
   "id": "d5061b8e",
   "metadata": {},
   "source": [
    "or provide an input dictionary,"
   ]
  },
  {
   "cell_type": "code",
   "execution_count": 51,
   "id": "2e6e6d8f",
   "metadata": {},
   "outputs": [],
   "source": [
    "user_input = {'bandwidth': {'value': 200.00, 'unit':  'MHz'},\n",
    "               'obs_freq': {'value':  90.00, 'unit':  'GHz'},\n",
    "                'weather': {'value':  50.00, 'unit': 'none'}}\n",
    "calc_dict = Calculator(user_input=user_input)"
   ]
  },
  {
   "cell_type": "markdown",
   "id": "7ca16b69",
   "metadata": {},
   "source": [
    "or by uploading an yaml-formatted file (see [here](https://github.com/ukatc/AtLAST_sensitivity_calculator/blob/main/docs/source/user_guide/providing_input_data.rst#reading-data-from-an-input-file) for details):"
   ]
  },
  {
   "cell_type": "code",
   "execution_count": null,
   "id": "fa920731",
   "metadata": {},
   "outputs": [],
   "source": [
    "from atlast_sc.utils import FileHelper\n",
    "user_input = FileHelper.read_from_file('<directory>', '<file name>')\n",
    "calc_input = Calculator(user_input=user_input)"
   ]
  },
  {
   "cell_type": "markdown",
   "id": "3fed5fd5",
   "metadata": {},
   "source": [
    "### Some useful functions\n",
    "\n",
    "I am adding here some utilities that I defined while running the validation tests and that could be generally useful.\n",
    "\n",
    "One of the input parameters is the elevation of the observation. If you want to reproduce what you would get, for instance, with the ALMA sensitivity calculator, you should input the maximum elevation for a given declination. To estimate the former, you can use the `maxelev` function below:"
   ]
  },
  {
   "cell_type": "code",
   "execution_count": 61,
   "id": "81f8045b",
   "metadata": {},
   "outputs": [],
   "source": [
    "from astropy import coordinates as coords\n",
    "from astropy import units as u\n",
    "\n",
    "import numpy as np\n",
    "\n",
    "def maxelev(dec,site='ALMA'):\n",
    "  dec = dec.to(u.deg).value\n",
    "  lat = coords.EarthLocation.of_site(site)\n",
    "\n",
    "  rdec = np.deg2rad(dec)\n",
    "  rlat = np.deg2rad(lat.to_geodetic().lat.value)\n",
    "\n",
    "  factor = np.arcsin(np.sin(rdec)*np.sin(rlat)+np.cos(rdec)*np.cos(rlat))\n",
    "  return np.rad2deg(factor)*u.deg\n",
    "\n",
    "declination = -10.00*u.deg\n",
    "\n",
    "\n",
    "calc = Calculator()\n",
    "calc.elevation = maxelev(dec=declination)"
   ]
  },
  {
   "cell_type": "markdown",
   "id": "d4c68dd1",
   "metadata": {},
   "source": [
    "The `weather` parameter refers to the relative humidity and is define in percentile values. If you want to consider octiles, instead, you can obtain the corresponding percentile using the following conversion"
   ]
  },
  {
   "cell_type": "code",
   "execution_count": 63,
   "id": "0489447e",
   "metadata": {},
   "outputs": [],
   "source": [
    "def oct2perc(octile):\n",
    "    refoct = {i: 12.5*i for i in range(1,8)}\n",
    "    return refoct[int(octile)]\n",
    "\n",
    "calc.weather = oct2perc(3)"
   ]
  }
 ],
 "metadata": {
  "kernelspec": {
   "display_name": "Python 3 (ipykernel)",
   "language": "python",
   "name": "python3"
  },
  "language_info": {
   "codemirror_mode": {
    "name": "ipython",
    "version": 3
   },
   "file_extension": ".py",
   "mimetype": "text/x-python",
   "name": "python",
   "nbconvert_exporter": "python",
   "pygments_lexer": "ipython3",
   "version": "3.10.10"
  }
 },
 "nbformat": 4,
 "nbformat_minor": 5
}
