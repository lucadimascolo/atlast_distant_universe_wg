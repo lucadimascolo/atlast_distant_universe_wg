{
 "cells": [
  {
   "cell_type": "markdown",
   "id": "37c20135",
   "metadata": {},
   "source": [
    "Assuming you have installed the AtLAST sensitivity calculator module, import it along with useful astropy functions"
   ]
  },
  {
   "cell_type": "code",
   "execution_count": 21,
   "id": "e4302944",
   "metadata": {},
   "outputs": [],
   "source": [
    "from atlast_sc.calculator import Calculator\n",
    "import astropy.units as u  # for ensuring units are treated properly\n",
    "import astropy.constants as const # to make use of the astropy constants package\n",
    "import numpy as np"
   ]
  },
  {
   "cell_type": "markdown",
   "id": "41958f29",
   "metadata": {},
   "source": [
    "Set up the band structure - here assuming something similar to the ALMA bands"
   ]
  },
  {
   "cell_type": "code",
   "execution_count": 31,
   "id": "fe4c281f",
   "metadata": {},
   "outputs": [],
   "source": [
    "band_inds=np.arange(3,11)\n",
    "nband=len(band_inds)\n",
    "band_freq=np.zeros((nband,2))\n",
    "band_freq[0,0]=84\n",
    "band_freq[0,1]=116\n",
    "band_freq[1,0]=125\n",
    "band_freq[1,1]=163\n",
    "band_freq[2,0]=163\n",
    "band_freq[2,1]=211\n",
    "band_freq[3,0]=211\n",
    "band_freq[3,1]=275\n",
    "band_freq[4,0]=275\n",
    "band_freq[4,1]=373\n",
    "band_freq[5,0]=385\n",
    "band_freq[5,1]=500\n",
    "band_freq[6,0]=602\n",
    "band_freq[6,1]=720\n",
    "band_freq[7,0]=787\n",
    "band_freq[7,1]=950"
   ]
  },
  {
   "cell_type": "markdown",
   "id": "1e72f7ea",
   "metadata": {},
   "source": [
    "Create an instance of the sensitivity calculator and adjust observing parameters.  Use 1 hr as a reference integration time."
   ]
  },
  {
   "cell_type": "code",
   "execution_count": 32,
   "id": "177bc61c",
   "metadata": {},
   "outputs": [],
   "source": [
    "calculator = Calculator()\n",
    "integration_time = 3600 *u.s\n",
    "calculator.t_int = integration_time"
   ]
  },
  {
   "cell_type": "markdown",
   "id": "667da4ed",
   "metadata": {},
   "source": [
    "Get the telescope radius from the calculator"
   ]
  },
  {
   "cell_type": "code",
   "execution_count": 33,
   "id": "cf27bf75",
   "metadata": {},
   "outputs": [
    {
     "name": "stdout",
     "output_type": "stream",
     "text": [
      "25.0 m\n"
     ]
    }
   ],
   "source": [
    "radius = calculator.instrument_setup.dish_radius.value\n",
    "print(radius)"
   ]
  },
  {
   "cell_type": "markdown",
   "id": "7346740b",
   "metadata": {},
   "source": [
    "Write out some estimated sensitivities and beam sizes and/or store them for later"
   ]
  },
  {
   "cell_type": "code",
   "execution_count": 34,
   "id": "e5dfb9fb",
   "metadata": {},
   "outputs": [
    {
     "name": "stdout",
     "output_type": "stream",
     "text": [
      "0 100.00 GHz 14.84 arcsec\n",
      "Sensitivity: 0.00580 mJy per beam for an integration time of 3600.00 s \n",
      "1 144.00 GHz 10.31 arcsec\n",
      "Sensitivity: 0.00676 mJy per beam for an integration time of 3600.00 s \n",
      "2 187.00 GHz 7.94 arcsec\n",
      "Sensitivity: 0.00944 mJy per beam for an integration time of 3600.00 s \n",
      "3 243.00 GHz 6.11 arcsec\n",
      "Sensitivity: 0.00820 mJy per beam for an integration time of 3600.00 s \n",
      "4 324.00 GHz 4.58 arcsec\n",
      "Sensitivity: 0.03205 mJy per beam for an integration time of 3600.00 s \n",
      "5 442.50 GHz 3.35 arcsec\n",
      "Sensitivity: 0.05861 mJy per beam for an integration time of 3600.00 s \n",
      "6 661.00 GHz 2.25 arcsec\n",
      "Sensitivity: 0.04743 mJy per beam for an integration time of 3600.00 s \n",
      "7 868.50 GHz 1.71 arcsec\n",
      "Sensitivity: 0.07525 mJy per beam for an integration time of 3600.00 s \n"
     ]
    }
   ],
   "source": [
    "fout=open('sensitivity_calculations.txt', 'w')\n",
    "fout.write('%-6s %10s %10s %10s %10s %10s\\n' % ('# Band', 'nu1', 'nu2', 'beam', 'int_time', 'sensitivity'))\n",
    "fout.write('# Beam size in arcsec; integration time in seconds; sensitivity in mJy/beam\\n')\n",
    "sens_per_hour=np.zeros((nband))\n",
    "beam_size=np.zeros((nband))\n",
    "for i, b in enumerate(band_freq):\n",
    "    calculator.obs_freq = np.sum(b)/2*u.GHz\n",
    "    calculator.bandwidth = (b[1]-b[0])*u.GHz\n",
    "\n",
    "    # pull the observing frequency from the user inputs\n",
    "    freq = calculator.user_input.obs_freq.value\n",
    "\n",
    "    theta = ((1.2* const.c / (freq * (2*radius) ))*u.radian).to('arcsec')\n",
    "    print(str(i)+f' {freq:0.2f} {theta:0.2f}')\n",
    "    beam_size[i]=theta.value\n",
    "\n",
    "    # point source sensitivity\n",
    "    calculated_sensitivity = calculator.calculate_sensitivity(integration_time).to(u.mJy)\n",
    "    print(\"Sensitivity: {:0.5f} per beam for an integration time of {:0.2f} \".format(calculated_sensitivity, integration_time))\n",
    "    fout.write('%-6d %10.2f %10.2f %10.2f %10d %10.6f\\n' % (i+3, b[0], b[1], theta.value, integration_time.value, calculated_sensitivity.value))\n",
    "    sens_per_hour[i]=calculated_sensitivity.value\n",
    "    \n",
    "fout.close()\n"
   ]
  },
  {
   "cell_type": "markdown",
   "id": "56845123",
   "metadata": {},
   "source": [
    "Now, assuming you have a pixelized model of your source, calculate the average surface brightness over an area of choice.  \n",
    "\n",
    "Average surface brightness = $\\sum$ (surface brightness within each beam) / $N_{beams}$, so error in average surface brightness will be given by (surface brightness error within a beam) / $\\sqrt{N_{beams}}$.  \n",
    "\n",
    "Then flux density error per beam = (surface brightness error within a beam) $\\times \\Omega_{beam}$ so error in average surface brightness = (flux density error per beam) / $\\Omega_{beam}$ / $\\sqrt{N_{beams}}$."
   ]
  },
  {
   "cell_type": "markdown",
   "id": "41151b33",
   "metadata": {},
   "source": [
    "Eg, if I have a cluster model and I'm selecting pixels within a radial bin, first set up a pixel grid and calculate distances from the centre"
   ]
  },
  {
   "cell_type": "code",
   "execution_count": 35,
   "id": "4345d133",
   "metadata": {},
   "outputs": [],
   "source": [
    "# load in/create model as an array in variable \"model\" with resolution \"res\" in arcmin\n",
    "#npix=np.shape(model)[0] # assuming it's square\n",
    "#crpix=npix/2\n",
    "#x=(np.arange(npix)-crpix)*res\n",
    "#X, Y=np.meshgrid(x, x)\n",
    "#R=np.sqrt(X**2+Y**2)"
   ]
  },
  {
   "cell_type": "markdown",
   "id": "418b99fc",
   "metadata": {},
   "source": [
    "Select pixels within the desired region, in this case an annulus, and average surface brightness (in MJy sr$^{-1}$ here)"
   ]
  },
  {
   "cell_type": "code",
   "execution_count": 36,
   "id": "6cf2f049",
   "metadata": {},
   "outputs": [],
   "source": [
    "#in_region=np.nonzero((R>theta_i) & (R<theta_f))\n",
    "#mean_SB=np.sum(model[in_region])/float(len(R[in_region])) # MJy sr^-1\n",
    "#A=len(R[in_region])*(res*60)**2 # arcsec^2"
   ]
  },
  {
   "cell_type": "markdown",
   "id": "ea88e7d7",
   "metadata": {},
   "source": [
    "If you have a model, uncomment the above.  For the sake of something simple to demonstrate, just put in some numbers here:"
   ]
  },
  {
   "cell_type": "code",
   "execution_count": 37,
   "id": "3101ceab",
   "metadata": {},
   "outputs": [],
   "source": [
    "mean_SB=0.1 # MJy sr^-1\n",
    "A=100. # arcsec^2"
   ]
  },
  {
   "cell_type": "markdown",
   "id": "4e21a687",
   "metadata": {},
   "source": [
    "Select the band you're interested in (or loop over them), calculate the beam area and hence the error in the mean surface brightness"
   ]
  },
  {
   "cell_type": "code",
   "execution_count": 38,
   "id": "2098d05a",
   "metadata": {},
   "outputs": [
    {
     "name": "stdout",
     "output_type": "stream",
     "text": [
      "Beam size is 6.11 arcsec, area covered by 2.37 beams\n",
      "Surface brightness error = 0.00536 MJy/sr; SNR = 18.6\n"
     ]
    }
   ],
   "source": [
    "iband=3\n",
    "Omega_beam=np.pi*beam_size[iband]**2/4/np.log(2.) # arcsec^2\n",
    "Nbeams=A/Omega_beam\n",
    "print('Beam size is %.2f arcsec, area covered by %.2f beams' % (beam_size[iband], Nbeams))\n",
    "SB_err=sens_per_hour[iband]*1e-9/(Omega_beam*(np.pi/180/3600)**2)/np.sqrt(Nbeams) # convert sensitivity from mJy --> MJy, convert beam solid angle to sr\n",
    "SNR=mean_SB/SB_err\n",
    "print('Surface brightness error = %.3g MJy/sr; SNR = %.1f' % (SB_err, SNR))"
   ]
  },
  {
   "cell_type": "markdown",
   "id": "689091ba",
   "metadata": {},
   "source": [
    "Alternatively, require an SNR and work out the observing time you need to get to it.  Ie SNR = mean SB / (flux density error per beam) $ \\times \\Omega_{beam} \\times \\sqrt{N_{beams}} \\Rightarrow$ flux density error per beam = mean SB / SNR $ \\times \\Omega_{beam} \\times \\sqrt{N_{beams}}$"
   ]
  },
  {
   "cell_type": "code",
   "execution_count": 39,
   "id": "bc533a8f",
   "metadata": {},
   "outputs": [
    {
     "name": "stdout",
     "output_type": "stream",
     "text": [
      "Required flux density error = 0.00306 mJy/beam for SNR=50.00\n"
     ]
    }
   ],
   "source": [
    "des_SNR=50.\n",
    "flux_err=mean_SB*1e9/des_SNR*(Omega_beam*(np.pi/180/3600)**2)*np.sqrt(Nbeams) # MJy --> mJy and Omega_beam to sr\n",
    "print('Required flux density error = %.3g mJy/beam for SNR=%.2f' % (flux_err, des_SNR))"
   ]
  },
  {
   "cell_type": "markdown",
   "id": "d41681f6",
   "metadata": {},
   "source": [
    "Convert this to an observing time estimate.  Could also use the sensitivity calculator for this."
   ]
  },
  {
   "cell_type": "code",
   "execution_count": 40,
   "id": "34ec4e25",
   "metadata": {},
   "outputs": [
    {
     "name": "stdout",
     "output_type": "stream",
     "text": [
      "Sensitivity after 1 hr observing is 0.0082 mJy/beam; required time to reach 0.00306 mJy/beam is 7.19 hours\n"
     ]
    }
   ],
   "source": [
    "req_time = (sens_per_hour[iband]/flux_err)**2\n",
    "print('Sensitivity after 1 hr observing is %.3g mJy/beam; required time to reach %.3g mJy/beam is %.2f hours' % (sens_per_hour[iband], flux_err, req_time))"
   ]
  },
  {
   "cell_type": "code",
   "execution_count": null,
   "id": "d9857371",
   "metadata": {},
   "outputs": [],
   "source": []
  }
 ],
 "metadata": {
  "kernelspec": {
   "display_name": "Python 3 (ipykernel)",
   "language": "python",
   "name": "python3"
  },
  "language_info": {
   "codemirror_mode": {
    "name": "ipython",
    "version": 3
   },
   "file_extension": ".py",
   "mimetype": "text/x-python",
   "name": "python",
   "nbconvert_exporter": "python",
   "pygments_lexer": "ipython3",
   "version": "3.10.12"
  }
 },
 "nbformat": 4,
 "nbformat_minor": 5
}
